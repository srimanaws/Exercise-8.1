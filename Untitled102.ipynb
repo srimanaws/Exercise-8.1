{
 "cells": [
  {
   "cell_type": "code",
   "execution_count": 1,
   "id": "8c164b92-c14f-4522-af9d-43728b9b60bd",
   "metadata": {},
   "outputs": [
    {
     "name": "stdout",
     "output_type": "stream",
     "text": [
      "**1,230.60\n",
      "****399.87\n"
     ]
    }
   ],
   "source": [
    "# Sriman - In-Class Activity 8.1 (Check Protection)\n",
    "def check_protected_format(amount):\n",
    "    # We want to make sure the amount has two decimal places, like in a real check\n",
    "    formatted_amount = f\"{amount:,.2f}\"\n",
    "    # Now, we add leading asterisks if needed, making the entire string length 10\n",
    "    check_amount = f\"{formatted_amount:*>10}\"\n",
    "    print(check_amount)\n",
    "\n",
    "# Let's try it out with some examples:\n",
    "check_protected_format(1230.60)  # will print ******1,230.60\n",
    "check_protected_format(399.87)   # will print *******399.87\n"
   ]
  },
  {
   "cell_type": "code",
   "execution_count": null,
   "id": "19774712-9b25-4f0a-af28-955f4d6cc6fd",
   "metadata": {},
   "outputs": [],
   "source": []
  }
 ],
 "metadata": {
  "kernelspec": {
   "display_name": "Python 3 (ipykernel)",
   "language": "python",
   "name": "python3"
  },
  "language_info": {
   "codemirror_mode": {
    "name": "ipython",
    "version": 3
   },
   "file_extension": ".py",
   "mimetype": "text/x-python",
   "name": "python",
   "nbconvert_exporter": "python",
   "pygments_lexer": "ipython3",
   "version": "3.12.4"
  }
 },
 "nbformat": 4,
 "nbformat_minor": 5
}
